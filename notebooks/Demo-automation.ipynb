{
 "cells": [
  {
   "cell_type": "markdown",
   "id": "220ad847",
   "metadata": {},
   "source": [
    "# Automate demo site"
   ]
  },
  {
   "cell_type": "markdown",
   "id": "5c556f45",
   "metadata": {},
   "source": []
  },
  {
   "cell_type": "markdown",
   "id": "dcfbd39f",
   "metadata": {},
   "source": [
    "### Import packages, create and set directories."
   ]
  },
  {
   "cell_type": "code",
   "execution_count": 1,
   "id": "cbabd9ec-e89e-4a88-ab8b-e4eaf5e8a2a5",
   "metadata": {},
   "outputs": [
    {
     "ename": "ModuleNotFoundError",
     "evalue": "No module named 'demo_automation'",
     "output_type": "error",
     "traceback": [
      "\u001b[1;31m---------------------------------------------------------------------------\u001b[0m",
      "\u001b[1;31mModuleNotFoundError\u001b[0m                       Traceback (most recent call last)",
      "Cell \u001b[1;32mIn[1], line 8\u001b[0m\n\u001b[0;32m      5\u001b[0m \u001b[39mif\u001b[39;00m parent_dir \u001b[39mnot\u001b[39;00m \u001b[39min\u001b[39;00m sys\u001b[39m.\u001b[39mpath:\n\u001b[0;32m      6\u001b[0m     sys\u001b[39m.\u001b[39mpath\u001b[39m.\u001b[39mappend(parent_dir)\n\u001b[1;32m----> 8\u001b[0m \u001b[39mfrom\u001b[39;00m \u001b[39mdemo_automation\u001b[39;00m\u001b[39m.\u001b[39;00m\u001b[39mautomate_browser\u001b[39;00m \u001b[39mimport\u001b[39;00m autoWebpage\n\u001b[0;32m     10\u001b[0m autoWebpage()\n",
      "\u001b[1;31mModuleNotFoundError\u001b[0m: No module named 'demo_automation'"
     ]
    }
   ],
   "source": [
    "import os, sys\n",
    "\n",
    "# Set directory paths\n",
    "parent_dir = os.path.abspath('..')\n",
    "if parent_dir not in sys.path:\n",
    "    sys.path.append(parent_dir)\n",
    "\n",
    "from demo_automation.automate_browser import autoWebpage\n",
    "\n",
    "autoWebpage()"
   ]
  },
  {
   "cell_type": "code",
   "execution_count": null,
   "id": "e1d4b14f",
   "metadata": {},
   "outputs": [],
   "source": []
  }
 ],
 "metadata": {
  "kernelspec": {
   "display_name": "Python 3 (ipykernel)",
   "language": "python",
   "name": "python3"
  },
  "language_info": {
   "codemirror_mode": {
    "name": "ipython",
    "version": 3
   },
   "file_extension": ".py",
   "mimetype": "text/x-python",
   "name": "python",
   "nbconvert_exporter": "python",
   "pygments_lexer": "ipython3",
   "version": "3.10.9"
  },
  "vscode": {
   "interpreter": {
    "hash": "c201753945160edd05526b4daeac70a9c38ee1d2a57ee7fdf9942c74d8628cb4"
   }
  }
 },
 "nbformat": 4,
 "nbformat_minor": 5
}
